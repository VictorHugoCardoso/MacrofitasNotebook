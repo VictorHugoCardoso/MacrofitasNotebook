{
 "cells": [
  {
   "cell_type": "code",
   "execution_count": null,
   "metadata": {
    "collapsed": false,
    "deletable": true,
    "editable": true
   },
   "outputs": [],
   "source": [
    "sensor = 'LANDSAT8';\n",
    "dataInicial = '2012-11-22'; #ano,mes,dia\n",
    "dataFinal = '2020-01-01';\n",
    "max_nuvens = 5\n",
    "\n",
    "bracos = ['aguaVerde','apipu','bangu','belaVista','doisIrmaos','guabiroba','guacu','itacora220',\n",
    "              'itavo220','jacutinga','maya','moinho','moledo220','naranjito','ocoi','onca','passoCue',\n",
    "              'petronius','porvenir','rioBranco','salamanca','sangaAlegre','saoCristovao','saoFranciscoFalso',\n",
    "              'saoFranciscoVerdadeiro','saoJorge','saoLuiz','saoVicenteChico','saoVicenteSaoJoao','solMaio220',\n",
    "              'taquapetinga','tigre220','tresIrmas','vinitu','xororo','costanera','dosHermanas',\n",
    "              'itabo','limoy','pikyry','piraPyta','tatiYupi','brillante','carapa','gasory','itambey','pozuelo','santaTeresa','corpoCentral'] # 49"
   ]
  },
  {
   "cell_type": "code",
   "execution_count": null,
   "metadata": {
    "collapsed": false,
    "deletable": true,
    "editable": true
   },
   "outputs": [],
   "source": [
    "import ee\n",
    "import psycopg2\n",
    "import time\n",
    "\n",
    "print(\"Iniciando conexão com EE...\");\n",
    "ee.Initialize();\n",
    "print(\"Conectado!\");"
   ]
  },
  {
   "cell_type": "code",
   "execution_count": null,
   "metadata": {
    "collapsed": false,
    "deletable": true,
    "editable": true
   },
   "outputs": [],
   "source": [
    "bandas = ['B5','B4','B6']\n",
    "scale = 30\n",
    "clouds = 'CLOUD_COVER'\n",
    "dataset = 'LANDSAT/LC08/C01/T1_SR'"
   ]
  },
  {
   "cell_type": "code",
   "execution_count": null,
   "metadata": {
    "collapsed": false,
    "deletable": true,
    "editable": true,
    "hiddenCell": true
   },
   "outputs": [],
   "source": [
    "dataset = ee.ImageCollection(dataset) \\\n",
    "            .filter(ee.Filter.date(dataInicial, dataFinal)) \\\n",
    "            .filterBounds(ee.Algorithms.GeometryConstructors.MultiPoint([[-54.32822528851034, -24.660395975306944],[-54.49576679241659, -25.30643825264147]])) \\\n",
    "            .filter(ee.Filter.lessThanOrEquals(clouds,80));\n",
    "            \n",
    "projection = ee.Image(dataset.first()).select('B4').projection();"
   ]
  },
  {
   "cell_type": "code",
   "execution_count": null,
   "metadata": {
    "collapsed": false,
    "deletable": true,
    "editable": true
   },
   "outputs": [],
   "source": [
    "def mapCloudscore(image):\n",
    "    if(satelite):\n",
    "        pq = image.select('QA60');\n",
    "        return ee.Image(0).where(pq.gt(0),1).rename(ee.List(['cloudMask']));\n",
    "    else:\n",
    "        pq = image.select('pixel_qa');\n",
    "        return ee.Image(0).where(pq.neq(324).And(pq.neq(322)),1).rename(ee.List(['cloudMask']));"
   ]
  },
  {
   "cell_type": "code",
   "execution_count": null,
   "metadata": {
    "collapsed": false,
    "deletable": true,
    "editable": true
   },
   "outputs": [],
   "source": [
    "def mapTransparencia(image,projection):\n",
    "\n",
    "\n",
    "    return transparencia;"
   ]
  },
  {
   "cell_type": "code",
   "execution_count": null,
   "metadata": {
    "collapsed": true,
    "deletable": true,
    "editable": true
   },
   "outputs": [],
   "source": [
    "def getDataStr(image):\n",
    "    image = ee.Image(image);\n",
    "    eedate = ee.Date(image.get('system:time_start'))\n",
    "    dia = ee.Number(eedate.get('day')).format()\n",
    "    mes = ee.Number(eedate.get('month')).format()\n",
    "    ano = ee.Number(eedate.get('year')).format()\n",
    "    data = ano.cat('-').cat(mes).cat('-').cat(dia)\n",
    "    return data"
   ]
  },
  {
   "cell_type": "code",
   "execution_count": null,
   "metadata": {
    "collapsed": true,
    "deletable": true,
    "editable": true
   },
   "outputs": [],
   "source": [
    "def mapper(image):\n",
    "\n",
    "    image = ee.Image(image);\n",
    "    cloudscore = mapCloudscore(image);   \n",
    "    transparencia = ee.Image(mapTransparencia(image,projection));\n",
    "    ndvi = ee.Image(mapNDVI(image));\n",
    "    data = getDataStr(image);\n",
    "\n",
    "    return image.addBands(macrofitas).addBands(cloudscore).addBands(ndvi).set('data',data);"
   ]
  },
  {
   "cell_type": "code",
   "execution_count": null,
   "metadata": {
    "collapsed": false,
    "deletable": true,
    "editable": true
   },
   "outputs": [],
   "source": [
    "collection = dataset.map(mapper);\n",
    "tamanho = ee.ImageCollection(collection).toList(1000).length().getInfo()\n",
    "collection = ee.ImageCollection(collection).toList(tamanho);\n",
    "print str(tamanho)+' imagens\\n'"
   ]
  },
  {
   "cell_type": "code",
   "execution_count": null,
   "metadata": {
    "codeCollapsed": false,
    "collapsed": false,
    "deletable": true,
    "editable": true,
    "hiddenCell": true
   },
   "outputs": [],
   "source": [
    "for i in range(tamanho):\n",
    "    image = ee.Image(collection.get(i))\n",
    "    id_imagem = image.id().getInfo()\n",
    "    data = image.get('data').getInfo()\n",
    "    \n",
    "    start_time = time.time()\n",
    "    bracosInseridos = 0\n",
    "    print(\"*================================================================*\")\n",
    "    print \"(\"+str(i+1)+\")\", id_imagem\n",
    "    print(\"*================================================================*\")\n",
    "    \n",
    "    for j in range(0, len(bracos)):\n",
    "        braco = bracos[j]\n",
    "        regiao = ee.Feature(ee.FeatureCollection(\"users/odraitaipu/bracos/\"+braco).union().first()).set('nome',braco).geometry()\n",
    "        \n",
    "        intersecao = image.geometry().intersection(regiao,ee.ErrorMargin(1));\n",
    "        porcentagem_intersecao = ee.Number((intersecao.area().multiply(100)).divide(regiao.area())).getInfo()\n",
    "        \n",
    "        print braco\n",
    "        if porcentagem_intersecao > 10:\n",
    "            \n",
    "            meanClouds = ee.Number(image.select('cloudMask').reduceRegion(ee.Reducer.mean(), regiao, scale, None, None, True).get('cloudMask')).multiply(100).getInfo()\n",
    "            \n",
    "            if meanClouds <= max_nuvens:\n",
    "                local_segmento = ''\n",
    "                \n",
    "                if (braco == 'aguaVerde') or (braco == 'apipu') or (braco == 'bangu') or (braco == 'belaVista') or (braco == 'doisIrmaos') or (braco == 'guabiroba') or (braco == 'guacu')\\\n",
    "                    or (braco == 'itacora220') or (braco == 'itavo220') or (braco == 'jacutinga') or (braco == 'maya') or (braco == 'moinho') or (braco == 'moledo220') or (braco == 'naranjito')\\\n",
    "                    or (braco == 'ocoi') or (braco == 'onca') or (braco == 'passoCue') or (braco == 'petronius') or (braco == 'porvenir') or (braco == 'rioBranco') or (braco == 'salamanca')\\\n",
    "                    or (braco == 'sangaAlegre') or (braco == 'saoCristovao') or (braco == 'saoFranciscoFalso') or (braco == 'saoFranciscoVerdadeiro') or (braco == 'saoJorge') or (braco == 'saoLuiz')\\\n",
    "                    or (braco == 'saoVicenteChico') or (braco == 'saoVicenteSaoJoao') or (braco == 'solMaio220') or (braco == 'taquapetinga') or (braco == 'tigre220')\\\n",
    "                    or (braco == 'tresIrmas') or (braco == 'vinitu') or (braco == 'xororo'):\n",
    "                    \n",
    "                    local_segmento = 'me'\n",
    "                elif (braco == 'costanera') or (braco == 'dosHermanas') or (braco == 'itabo') or (braco == 'limoy') or (braco == 'pikyry') or (braco == 'tatiYupi') or (braco == 'brillante')\\\n",
    "                    or (braco == 'carapa') or (braco == 'gasory') or (braco == 'itambey') or (braco == 'pozuelo') or (braco == 'santaTeresa'):\n",
    "            \n",
    "                    local_segmento = 'md'\n",
    "                elif braco == 'corpoCentral':\n",
    "                    local_segmento = 'cc'\n",
    "                \n",
    "                print local_segmento\n",
    "                '''\n",
    "                shapeMacrofita = image.select('macrofitas').reduceToVectors(ee.Reducer.countEvery(),regiao,None,'polygon',True,'macrofitas',None,None,True).union(1).geometry()\n",
    "                meanNDVI = image.select('ndvi').reduceRegion(ee.Reducer.mean(), shapeMacrofita, scale, None, None, True).get('ndvi')\n",
    "\n",
    "                areaRegiao = regiao.area();\n",
    "                areaMacrofitas = shapeMacrofita.area(ee.ErrorMargin(1));\n",
    "                macrofitas_porcentagem = (areaMacrofitas.multiply(100)).divide(areaRegiao);\n",
    "\n",
    "                shapeMacrofita = shapeMacrofita.getInfo()\n",
    "                areaMacrofitas = areaMacrofitas.getInfo()\n",
    "                macrofitas_porcentagem = macrofitas_porcentagem.getInfo()\n",
    "                meanNDVI = meanNDVI.getInfo()\n",
    "\n",
    "                import json\n",
    "                geoJson = shapeMacrofita\n",
    "                geoJson[\"crs\"] = {\"type\": \"name\",\"properties\": {\"name\": \"EPSG:4326\"}}\n",
    "                geoJsonStr = json.dumps(shapeMacrofita)\n",
    "\n",
    "                host = '179.106.229.170'\n",
    "                port = '5432'\n",
    "                dbname = 'postgis'\n",
    "                usuario = 'postgres'\n",
    "                senha = 'postgres'\n",
    "\n",
    "                comando = \"INSERT INTO macrofitas(id,the_geom,data_passagem,sensor,media_ndvi,nome_segmento,local_segmento,area_macrofitas_m2,porcentagem_macrofitas,porcentagem_nuvens,porcentagem_intersecao,id_imagem)\" + \\\n",
    "                          \"VALUES(DEFAULT,ST_GeomFromGeoJSON('\"+geoJsonStr+\"'),'\"+str(data)+\"','\"+sensor+\"',\"+str(meanNDVI)+\",'\"+braco+\"', '\"+local_segmento+\"',\"+str(areaMacrofitas)+\",\"+str(macrofitas_porcentagem)+ \\\n",
    "                          \",\"+str(meanClouds)+\",\"+str(porcentagem_intersecao)+\",'\"+id_imagem+\"');\"\n",
    "\n",
    "                con = None\n",
    "                try:\n",
    "                    con = psycopg2.connect(\"host='\"+host+\"' port='\"+port+\"' dbname='\"+dbname+\"' user='\"+usuario+\"' password='\"+senha+\"'\")   \n",
    "                    cur = con.cursor()\n",
    "                    cur.execute(comando)\n",
    "                    con.commit()\n",
    "                    print 'Inserido!\\n'\n",
    "\n",
    "                    bracosInseridos += 1\n",
    "                except psycopg2.DatabaseError, e:\n",
    "                    if con:\n",
    "                        con.rollback()\n",
    "                    print 'Error %s' % e\n",
    "                    bracosInseridos -= 1\n",
    "                finally:   \n",
    "                    if con: \n",
    "                        con.close()\n",
    "                '''\n",
    "            else:\n",
    "                print \"Pulando região, \"+ str(meanClouds) +\"% de cobertura de nuvens\\n\"\n",
    "        else:\n",
    "            print \"Pulando região, não está contida na cena\\n\"\n",
    "                        \n",
    "    elapsed_time = time.time() - start_time\n",
    "    print 'Varredura de imagem finalizada. Inseridos '+str(bracosInseridos)+' bracos em '+ str(elapsed_time) + ' segundos'\n",
    "    print \"(\"+str((100*i)/tamanho)+\"%)\"\n",
    "    print \"------------------------------------------------------------------\\n\\n\"\n",
    "    \n",
    "print \"\\n\\n/------------------------------------------------------------------------------------------------------------/\"\n",
    "print \"Procedimento completo!\"\n",
    "print \"/------------------------------------------------------------------------------------------------------------/\""
   ]
  }
 ],
 "metadata": {
  "kernelspec": {
   "display_name": "Python 2",
   "language": "python",
   "name": "python2"
  },
  "language_info": {
   "codemirror_mode": {
    "name": "ipython",
    "version": 2
   },
   "file_extension": ".py",
   "mimetype": "text/x-python",
   "name": "python",
   "nbconvert_exporter": "python",
   "pygments_lexer": "ipython2",
   "version": "2.7.12"
  }
 },
 "nbformat": 4,
 "nbformat_minor": 2
}
