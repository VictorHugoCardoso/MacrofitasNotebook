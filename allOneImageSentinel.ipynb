
# coding: utf-8

# In[1]:


import ee
import psycopg2
import time

print("Iniciando conexão com EE...");
ee.Initialize();
print("Conectado!");


# In[6]:


sensor = 'SENTINEL2' 
bandas = ['B8','B4','B11']
scale = 10
bracos = ['aguaVerde','apipu','bangu','belaVista','doisIrmaos','guabiroba','guacu','itacora220','itavo220','jacutinga','maya','moinho','moledo220','naranjito','ocoi','onca','passoCue','petronius','porvenir','rioBranco','salamanca','sangaAlegre','saoCristovao','saoFranciscoFalso','saoFranciscoVerdadeiro','saoJorge','saoLuiz','saoVicenteChico','saoVicenteSaoJoao','solMaio220','taquapetinga','tigre220','tresIrmas','vinitu','xororo']
bracos = ['ocoi','passoCue','saoFranciscoVerdadeiro']


# In[3]:


def getMacrofitas(image,projection):
  image = ee.Image(image).divide(10000);
  ndvi = image.normalizedDifference([bandas[0],bandas[1]]);

  soma = ndvi.reproject(projection).reduceResolution(ee.Reducer.sum());
  porcentagem = soma.divide(ndvi).multiply(100).round();
  clippedNdvi = ndvi.updateMask(ndvi.where(porcentagem.lte(99),0));
  output = ee.Image(0).where(clippedNdvi.gte(0.2).And(image.select(bandas[2]).gt(0.06)),1);
  result = output.updateMask(output).rename(['macrofitas']).reproject(projection);

  return result


# In[4]:


id_imagem = 'COPERNICUS/S2/20160406T134913_20160406T200257_T21JYN';
image = ee.Image(id_imagem);
projection = image.select('B4').projection();
imageMacrofita = getMacrofitas(image,projection)
nuvens = image.get('CLOUDY_PIXEL_PERCENTAGE');

eedate = ee.Date(image.get('system:time_start'));
dia = ee.Number(eedate.get('day')).format();
mes = ee.Number(eedate.get('month')).format();
ano = ee.Number(eedate.get('year')).format();
data = ano.cat('-').cat(mes).cat('-').cat(dia);

imageNDVI = image.normalizedDifference([bandas[0],bandas[1]])

img_footprint = image.geometry();
nuvens = nuvens.getInfo()
data = data.getInfo()


# In[5]:


start_time = time.time()
count = 0
for braco in bracos:
    regiao = ee.Feature(ee.FeatureCollection("users/odraitaipu/bracos/"+braco).union().first()).set('nome',braco)
    
    intersecao = img_footprint.intersection(regiao.geometry(),ee.ErrorMargin(1));
    porcentagem_intersecao = (intersecao.area().multiply(100)).divide(regiao.geometry().area())
    porcentagem_intersecao = porcentagem_intersecao.getInfo()
    
    if porcentagem_intersecao > 10:

        shapeMacrofita = imageMacrofita.reduceToVectors(ee.Reducer.countEvery(),regiao.geometry(),None,'polygon',True,'macrofitas',None,None,True).union(1)

        meanNDVI = imageNDVI.reduceRegion(ee.Reducer.mean(), shapeMacrofita.geometry(), scale, None, None, True)

        areaRegiao = regiao.geometry().area();
        areaMacrofitas = shapeMacrofita.geometry().area(ee.ErrorMargin(1));
        macrofitas_porcentagem = (areaMacrofitas.multiply(100)).divide(areaRegiao);

        shapeMacrofita = shapeMacrofita.getInfo()
        areaMacrofitas = areaMacrofitas.getInfo()
        macrofitas_porcentagem = macrofitas_porcentagem.getInfo()
        meanNDVI = meanNDVI.getInfo()

        import json
        geoJson = shapeMacrofita['features'][0]['geometry']
        geoJson["crs"] = {"type": "name","properties": {"name": "EPSG:4326"}}
        geoJsonStr = json.dumps(shapeMacrofita['features'][0]['geometry'])

        host = '179.106.229.170'
        port = '5432'
        dbname = 'postgis'
        usuario = 'postgres'
        senha = 'postgres'

        comando = "INSERT INTO macrofitas(id,the_geom,data_passagem,sensor,media_ndvi,braco,area_macrofitas_m2,porcentagem_macrofitas,porcentagem_nuvens,porcentagem_intersecao,id_imagem)" +                   "VALUES(DEFAULT,ST_GeomFromGeoJSON('"+geoJsonStr+"'),'"+str(data)+"','"+sensor+"',"+str(meanNDVI['nd'])+",'"+braco+"',"+str(areaMacrofitas)+","+str(macrofitas_porcentagem)+","+str(nuvens)+","+str(porcentagem_intersecao)+",'"+id_imagem+"');"

        con = None
        try:

            print 'Inserindo braço: '+ braco
            con = psycopg2.connect("host='"+host+"' port='"+port+"' dbname='"+dbname+"' user='"+usuario+"' password='"+senha+"'")   
            cur = con.cursor()
            cur.execute(comando)
            con.commit()
            print 'Inserido!\n'
            
            count += 1
        except psycopg2.DatabaseError, e:
            if con:
                con.rollback()
            print 'Error %s' % e
        finally:   
            if con:
                con.close()
elapsed_time = time.time() - start_time
print '\nConcluido '+str(count)+' em '+ str(elapsed_time) + ' segundos'

