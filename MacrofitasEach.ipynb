
# coding: utf-8

# # EARTH ENGINE PYTHON API TO POSTGRESQL

# ### Inicializar a conexão com a a plataforma do Earth Engine

# In[1]:


import ee
print("Iniciando conexão com EE...");
ee.Initialize();
print("Conectado!");


# #### Região de estudo

# In[2]:


braco = 'ocoi'


# In[3]:


regiao = ee.Feature(ee.FeatureCollection("users/odraitaipu/bracos/"+braco).union().first()).set('nome',braco)


# #### Coleção
# Escolha do sensor<br>
# Filtrando apenas na região de interesse com até 5% de nuvem
# 

# In[4]:


sensor = 'COPERNICUS/S2'   # Sentinel 2 
nuvens = 5                 # Máximo de cobertuda de nuvens
bandas = ['B8','B4','B11'] # Selecionar apenas as bandas necessárias, para o calculo de de ndvi e exclusão do bloom de algas.


# In[5]:


collection = (ee.ImageCollection(sensor)
              .filterBounds(regiao.geometry())
              .filter(ee.Filter.lessThanOrEquals('CLOUDY_PIXEL_PERCENTAGE',nuvens))
              .select(bandas)
              .sort('system:time_start'))


# In[6]:


projection = ee.Image(collection.first()).select('B4').projection();


# #### Função que transoforma uma imagem de satélite multiband em uma imagem 'macrofita', binária, onde 1 indica presença e 0 ausência de macrófitas
# 

# In[7]:


def getMacrofitasSentinel(image):

	image = ee.Image(image).divide(10000);

	ndvi = image.normalizedDifference(['B8','B4']).clip(regiao.geometry());

	soma = ndvi.reproject(projection).reduceResolution(ee.Reducer.sum());
	porcentagem = soma.divide(ndvi).multiply(100).round();
	clippedNdvi = ndvi.updateMask(ndvi.where(porcentagem.lte(99),0));

	output = ee.Image(0).where(clippedNdvi.gte(0.2),1);
	result = output.updateMask(output).rename(['macrofitas']).reproject(projection);

	return result;


# ### Imagem Escolhida

# In[24]:


id_imagem = 'COPERNICUS/S2/20160406T134913_20160406T200257_T21JYN';


# In[12]:


image = ee.Image(id_imagem);
imageMacrofita = getMacrofitasSentinel(image)
shapeMacrofita = imageMacrofita.reduceToVectors(ee.Reducer.countEvery(),regiao.geometry(),None,'polygon',True,'macrofitas',None,None,True).union(1).getInfo()


# In[13]:


import json

geoJson = shapeMacrofita['features'][0]['geometry']
geoJson["crs"] = {"type": "name","properties": {"name": "EPSG:4326"}}
geoJsonStr = json.dumps(shapeMacrofita['features'][0]['geometry'])


# ### Conexão com o Banco de dados PostgreSQL

# In[25]:


host = '179.106.229.170'
port = '5432'
dbname = 'postgis'
usuario = 'postgres' 
senha = 'postgres'

comando = "INSERT INTO macrofitas(id,the_geom,data_passagem,sensor,media_ndvi,braco,porcentagem_macrofitas,id_ee_collection,porcentagem_nuvens,id_imagem)" +             "VALUES(DEFAULT,ST_GeomFromGeoJSON('"+geoJsonStr+"'),'2001-10-05','sentinel2',0.2,'"+braco+"',10.0,'"+sensor+"',10,'"+id_imagem+"');"


# In[22]:


import psycopg2
con = None
try:
    con = psycopg2.connect("host='"+host+"' port='"+port+"' dbname='"+dbname+"' user='"+usuario+"' password='"+senha+"'")   
    cur = con.cursor()
    cur.execute(comando)
    con.commit()
except psycopg2.DatabaseError, e:
    if con:
        con.rollback()
    print 'Error %s' % e
finally:   
    if con:
        con.close()

