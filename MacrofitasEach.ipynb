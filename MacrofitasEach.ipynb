{
 "cells": [
  {
   "cell_type": "markdown",
   "metadata": {
    "deletable": true,
    "editable": true
   },
   "source": [
    "# EARTH ENGINE PYTHON API TO POSTGRESQL"
   ]
  },
  {
   "cell_type": "markdown",
   "metadata": {
    "deletable": true,
    "editable": true
   },
   "source": [
    "### Inicializar a conexão com a a plataforma do Earth Engine"
   ]
  },
  {
   "cell_type": "code",
   "execution_count": 6,
   "metadata": {
    "collapsed": false,
    "deletable": true,
    "editable": true
   },
   "outputs": [
    {
     "name": "stdout",
     "output_type": "stream",
     "text": [
      "Iniciando conexão com EE...\n",
      "Conectado!\n"
     ]
    }
   ],
   "source": [
    "import ee\n",
    "print(\"Iniciando conexão com EE...\");\n",
    "ee.Initialize();\n",
    "print(\"Conectado!\");"
   ]
  },
  {
   "cell_type": "markdown",
   "metadata": {
    "deletable": true,
    "editable": true
   },
   "source": [
    "#### Região de estudo"
   ]
  },
  {
   "cell_type": "code",
   "execution_count": 24,
   "metadata": {
    "collapsed": true,
    "deletable": true,
    "editable": true
   },
   "outputs": [],
   "source": [
    "braco = 'ocoi'"
   ]
  },
  {
   "cell_type": "code",
   "execution_count": 25,
   "metadata": {
    "collapsed": false,
    "deletable": true,
    "editable": true
   },
   "outputs": [],
   "source": [
    "regiao = ee.Feature(ee.FeatureCollection(\"users/odraitaipu/bracos/\"+braco).union().first()).set('nome',braco)"
   ]
  },
  {
   "cell_type": "markdown",
   "metadata": {
    "deletable": true,
    "editable": true
   },
   "source": [
    "#### Coleção\n",
    "Escolha do sensor<br>\n",
    "Filtrando apenas na região de interesse com até 5% de nuvem\n"
   ]
  },
  {
   "cell_type": "code",
   "execution_count": 27,
   "metadata": {
    "collapsed": true,
    "deletable": true,
    "editable": true
   },
   "outputs": [],
   "source": [
    "sensor = 'COPERNICUS/S2'   # Sentinel 2 \n",
    "nuvens = 5                 # Máximo de cobertuda de nuvens\n",
    "bandas = ['B8','B4','B11'] # Selecionar apenas as bandas necessárias, para o calculo de de ndvi e exclusão do bloom de algas."
   ]
  },
  {
   "cell_type": "code",
   "execution_count": 22,
   "metadata": {
    "collapsed": false,
    "deletable": true,
    "editable": true
   },
   "outputs": [],
   "source": [
    "collection = (ee.ImageCollection(sensor)\n",
    "              .filterBounds(regiao.geometry())\n",
    "              .filter(ee.Filter.lessThanOrEquals('CLOUDY_PIXEL_PERCENTAGE',nuvens))\n",
    "              .select(bandas)\n",
    "              .sort('system:time_start'))"
   ]
  },
  {
   "cell_type": "markdown",
   "metadata": {
    "deletable": true,
    "editable": true
   },
   "source": [
    "#### Função que transoforma uma imagem de satélite multiband em uma imagem 'macrofita', binária, onde 1 indica presença e 0 ausência de macrófitas\n"
   ]
  },
  {
   "cell_type": "code",
   "execution_count": 23,
   "metadata": {
    "collapsed": true,
    "deletable": true,
    "editable": true
   },
   "outputs": [],
   "source": [
    "def getMacrofitasSentinel(image):\n",
    "\n",
    "\timage = ee.Image(image).divide(10000);\n",
    "\n",
    "\tbands = image.bandNames();\n",
    "\tndvi = image.normalizedDifference();\n",
    "\n",
    "\tsoma = ndvi.reproject(image.select('B4').projection()).reduceResolution(ee.Reducer.sum());\n",
    "\tporcentagem = soma.divide(ndvi).multiply(100).round();\n",
    "\tclippedNdvi = ndvi.updateMask(ndvi.where(porcentagem.lte(99),0));\n",
    "\n",
    "\toutput = ee.Image(0).where(clippedNdvi.gte(0.2),1);\n",
    "\tresult = output.updateMask(output).rename(['macrofitas']).reproject(image.select('B4').projection());\n",
    "\n",
    "\treturn result;"
   ]
  }
 ],
 "metadata": {
  "kernelspec": {
   "display_name": "Python 2",
   "language": "python",
   "name": "python2"
  },
  "language_info": {
   "codemirror_mode": {
    "name": "ipython",
    "version": 2
   },
   "file_extension": ".py",
   "mimetype": "text/x-python",
   "name": "python",
   "nbconvert_exporter": "python",
   "pygments_lexer": "ipython2",
   "version": "2.7.12"
  }
 },
 "nbformat": 4,
 "nbformat_minor": 2
}
