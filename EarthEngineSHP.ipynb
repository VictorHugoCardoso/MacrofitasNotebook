
# coding: utf-8

# # EARTH ENGINE PYTHON API TO POSTGRESQL

# ### Inicializar a conexão com a a plataforma do Earth Engine

# In[4]:


import ee
print("Iniciando conexão com EE...");
ee.Initialize();
print("Conectado!");


# #### Região de estudo

# In[5]:


braco = 'ocoi'


# In[6]:


regiao = ee.Feature(ee.FeatureCollection("users/odraitaipu/bracos/"+braco).union().first()).set('nome',braco)


# #### Coleção
# Escolha do sensor<br>
# Filtrando apenas na região de interesse com até 5% de nuvem
# 

# In[7]:


sensor = 'COPERNICUS/S2'   # Sentinel 2 
nuvens = 5                 # Máximo de cobertuda de nuvens
bandas = ['B8','B4','B11'] # Selecionar apenas as bandas necessárias, para o calculo de de ndvi e exclusão do bloom de algas.


# In[8]:


collection = (ee.ImageCollection(sensor)
              .filterBounds(regiao.geometry())
              .filter(ee.Filter.lessThanOrEquals('CLOUDY_PIXEL_PERCENTAGE',nuvens))
              .select(bandas)
              .sort('system:time_start'))


# In[9]:


projection = ee.Image(collection.first()).select('B4').projection();


# #### Função que transoforma uma imagem de satélite multiband em uma imagem 'macrofita', binária, onde 1 indica presença e 0 ausência de macrófitas
# 

# In[10]:


def getMacrofitasSentinel(image):

	image = ee.Image(image).divide(10000);

	bands = image.bandNames();
	ndvi = image.normalizedDifference(['B8','B4']);

	soma = ndvi.reproject(projection).reduceResolution(ee.Reducer.sum());
	porcentagem = soma.divide(ndvi).multiply(100).round();
	clippedNdvi = ndvi.updateMask(ndvi.where(porcentagem.lte(99),0));

	output = ee.Image(0).where(clippedNdvi.gte(0.2),1);
	result = output.updateMask(output).rename(['macrofitas']).reproject(projection);

	return result;


# Imagem de Teste

# In[11]:


clipper = ee.Geometry.Polygon([[[-54.21134401794325, -25.231690845169748],[-54.198383583983286, -25.23052621403749],[-54.200915589293345, -25.225091121263024],[-54.21344686981092, -25.22776987591738]]]);


# In[12]:


image = ee.Image('COPERNICUS/S2/20160406T134913_20160406T200257_T21JYN');

imageMacrofita = getMacrofitasSentinel(image).clip(clipper)
shapeMacrofita = imageMacrofita.reduceToVectors(ee.Reducer.countEvery(),clipper,None,'polygon',True,'macrofitas',None,None,True).getInfo()


# In[ ]:


for x in shapeMacrofita['features']: 
    print(x['geometry']['type'])
    print(x['geometry']['coordinates'])
  


# In[38]:


print(shapeMacrofita['features'][0]['geometry']['type'])


# In[41]:


print(shapeMacrofita['features'][0])


# In[40]:


print(shapeMacrofita['features'][0]['geometry']['coordinates'])


# In[17]:


import psycopg2

con = None
 
try:
    con = psycopg2.connect("host='179.106.229.170' port='5432' dbname='postgis' user='postgres' password='postgres'")   
    cur = con.cursor()
    cur.execute("INSERT INTO edificiosmegavila VALUES(10, ST_GeomFromText('POLYGON(%s %s)', 4326)), 50)")
    con.commit()
except psycopg2.DatabaseError, e:
    if con:
        con.rollback()
 
    print 'Error %s' % e    
 
finally:   
    if con:
        con.close()


# In[ ]:




