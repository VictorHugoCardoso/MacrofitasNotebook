{
 "cells": [
  {
   "cell_type": "markdown",
   "metadata": {},
   "source": [
    "# EARTH ENGINE PYTHON API TO POSTGRESQL"
   ]
  },
  {
   "cell_type": "markdown",
   "metadata": {},
   "source": [
    "### Definir a data de interesse:"
   ]
  },
  {
   "cell_type": "code",
   "execution_count": 1,
   "metadata": {
    "collapsed": true,
    "hiddenCell": true
   },
   "outputs": [],
   "source": [
    "dtInicio = '2016-01-01';\n",
    "dtFim = '2017-01-01';\n",
    "data = ee.DateRange(ee.Date(dtInicio),ee.Date(dtFim).advance(1,'month'))"
   ]
  },
  {
   "cell_type": "markdown",
   "metadata": {},
   "source": [
    "### Inicializar a conexão com a a plataforma do Earth Engine"
   ]
  },
  {
   "cell_type": "code",
   "execution_count": 3,
   "metadata": {
    "codeCollapsed": false,
    "collapsed": false,
    "deletable": true,
    "editable": true,
    "hiddenCell": true
   },
   "outputs": [
    {
     "name": "stdout",
     "output_type": "stream",
     "text": [
      "Iniciando conexão com EE...\n",
      "Conectado!\n"
     ]
    }
   ],
   "source": [
    "import ee\n",
    "print(\"Iniciando conexão com EE...\");\n",
    "ee.Initialize();\n",
    "print(\"Conectado!\");"
   ]
  },
  {
   "cell_type": "markdown",
   "metadata": {},
   "source": [
    "#### Região de estudo"
   ]
  },
  {
   "cell_type": "code",
   "execution_count": null,
   "metadata": {
    "collapsed": true
   },
   "outputs": [],
   "source": [
    "regiao = ee.Feature(ee.FeatureCollection(\"users/odraitaipu/bracos/ocoi\").union().first()).set('nome','Ocoí')"
   ]
  },
  {
   "cell_type": "markdown",
   "metadata": {},
   "source": [
    "#### Coleção\n",
    "Sentinel 2, filtrando apenas na região de interesse e na data selecionada, com até 5% de nuvem"
   ]
  },
  {
   "cell_type": "code",
   "execution_count": 4,
   "metadata": {
    "collapsed": false
   },
   "outputs": [],
   "source": [
    "collection = ee.ImageCollection('COPERNICUS/S2').filterBounds(regiao.geometry()).filterDate(data).filter(ee.Filter.lessThanOrEquals('CLOUDY_PIXEL_PERCENTAGE',5)).select(['B8','B4','B11']).sort('system:time_start');"
   ]
  },
  {
   "cell_type": "markdown",
   "metadata": {},
   "source": [
    "AQUI ONDE A MAGICA ACONTECE"
   ]
  },
  {
   "cell_type": "code",
   "execution_count": 8,
   "metadata": {
    "collapsed": true
   },
   "outputs": [],
   "source": [
    "def getMacrofitas(image):\n",
    "\n",
    "\timage = ee.Image(image).divide(10000);\n",
    "\n",
    "\tbands = image.bandNames();\n",
    "\tndvi = image.normalizedDifference();\n",
    "\n",
    "\tsoma = ndvi.reproject(image.select('B4').projection()).reduceResolution(ee.Reducer.sum());\n",
    "\tporcentagem = soma.divide(ndvi).multiply(100).round();\n",
    "\tclippedNdvi = ndvi.updateMask(ndvi.where(porcentagem.lte(99),0));\n",
    "\n",
    "\toutput = ee.Image(0).where(clippedNdvi.gte(0.2),1);\n",
    "\tresult = output.updateMask(output).rename(['macrofitas']).reproject(image.select('B4').projection());\n",
    "\n",
    "\treturn result;"
   ]
  },
  {
   "cell_type": "markdown",
   "metadata": {},
   "source": [
    "Mapeia a coleção das imagens brutas de satélite em uma nova coleção de imagens de 'macrófitas'"
   ]
  },
  {
   "cell_type": "code",
   "execution_count": 9,
   "metadata": {
    "collapsed": false
   },
   "outputs": [],
   "source": [
    "collectMacrofita = ee.ImageCollection(collection.map(getMacrofitas));"
   ]
  },
  {
   "cell_type": "markdown",
   "metadata": {},
   "source": [
    "### IMG MACRÓFITA 1 + IMG MACRÓFITA 2 + IMG MACRÓFITA 3... = IMG RESULTADO "
   ]
  },
  {
   "cell_type": "markdown",
   "metadata": {},
   "source": [
    "| 0 1 1 |&nbsp;&nbsp;|0 0 1 |&nbsp;&nbsp;|0 0 1 |&nbsp;&nbsp;&nbsp;&nbsp; 0 1 3<br> \n",
    "| 0 0 1 |+|0 0 1 |+|0 0 0 | = &nbsp;0 0 2<br>\n",
    "| 0 0 0 |&nbsp;&nbsp;|0 0 1 |&nbsp;&nbsp;|0 0 0 |&nbsp;&nbsp;&nbsp;&nbsp; 0 0 1<br>\n"
   ]
  },
  {
   "cell_type": "code",
   "execution_count": null,
   "metadata": {
    "collapsed": true
   },
   "outputs": [],
   "source": [
    "imgMacrofitas = collectMacrofita.sum();"
   ]
  },
  {
   "cell_type": "code",
   "execution_count": null,
   "metadata": {
    "collapsed": true
   },
   "outputs": [],
   "source": []
  }
 ],
 "metadata": {
  "kernelspec": {
   "display_name": "Python 2",
   "language": "python",
   "name": "python2"
  },
  "language_info": {
   "codemirror_mode": {
    "name": "ipython",
    "version": 2
   },
   "file_extension": ".py",
   "mimetype": "text/x-python",
   "name": "python",
   "nbconvert_exporter": "python",
   "pygments_lexer": "ipython2",
   "version": "2.7.12"
  }
 },
 "nbformat": 4,
 "nbformat_minor": 2
}
